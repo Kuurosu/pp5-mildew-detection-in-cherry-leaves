{
 "cells": [
  {
   "attachments": {},
   "cell_type": "markdown",
   "metadata": {
    "id": "0aStgWSO0E0E"
   },
   "source": [
    "# **Cherry Blossom Data Visualisation**"
   ]
  },
  {
   "attachments": {},
   "cell_type": "markdown",
   "metadata": {
    "id": "1eLEkw5O0ECa"
   },
   "source": [
    "## Objectives\n",
    "\n",
    "- Answer business requirement no.1:\n",
    "\n",
    "  > The client is interested in conducting a study to visually differentiate a healthy cherry leaf from one that contains powdery mildew.\n",
    "\n",
    "## Inputs\n",
    "\n",
    "- inputs/cherry-leaves-dataset/test\n",
    "- inputs/cherry-leaves-dataset/train\n",
    "- inputs/cherry-leaves-dataset/validation\n",
    "\n",
    "## Outputs\n",
    "\n",
    "The notebook will generate the following outputs:\n",
    "\n",
    "- Computation of the average image size from the train set. This is crucial for training the Convolutional Neural Network (CNN) on the test set, as all input images must have the same size. The input size directly impacts the architecture of the CNN.\n",
    "- Saving the image shape embeddings as a pickle file.\n",
    "- Plotting the mean and variability of images per label, providing insights into the distribution of cherry blossom leaves in the dataset.\n",
    "- Creating a plot that effectively distinguishes between healthy and mildew-infected cherry leaves, aiding in the visual differentiation of these two categories.\n",
    "- Generating code that addresses business requirement 1 and can be seamlessly integrated into the Streamlit dashboard to create an image montage, enhancing the user experience and facilitating the study of cherry blossom leaves."
   ]
  },
  {
   "attachments": {},
   "cell_type": "markdown",
   "metadata": {
    "id": "9uWZXH9LwoQg"
   },
   "source": [
    "---"
   ]
  },
  {
   "attachments": {},
   "cell_type": "markdown",
   "metadata": {
    "id": "cqP-UeN-z3i2"
   },
   "source": [
    "# Set the working directory"
   ]
  },
  {
   "cell_type": "code",
   "execution_count": 1,
   "metadata": {
    "id": "wZfF_j-Bz3i4",
    "outputId": "66943449-1436-4c3d-85c7-b85f9f78349b"
   },
   "outputs": [
    {
     "data": {
      "text/plain": [
       "'/Users/kuro/Desktop/PP5 Project/pp5-mildew-detection-in-cherry-leaves/jupyter_notebooks'"
      ]
     },
     "execution_count": 1,
     "metadata": {},
     "output_type": "execute_result"
    }
   ],
   "source": [
    "import os\n",
    "current_dir = os.getcwd()\n",
    "current_dir"
   ]
  },
  {
   "cell_type": "code",
   "execution_count": 2,
   "metadata": {
    "id": "TwHsQRWjz3i9",
    "outputId": "86849db3-cd2f-4cc5-ebb8-2d0caafa1a2c",
    "tags": []
   },
   "outputs": [
    {
     "name": "stdout",
     "output_type": "stream",
     "text": [
      "You set a new current directory\n"
     ]
    }
   ],
   "source": [
    "os.chdir(os.path.dirname(current_dir))\n",
    "print(\"You set a new current directory\")"
   ]
  },
  {
   "cell_type": "code",
   "execution_count": 3,
   "metadata": {
    "id": "vz3S-_kjz3jA",
    "outputId": "00b79ae4-75d0-4a96-d193-ac9ef9847ea2"
   },
   "outputs": [
    {
     "data": {
      "text/plain": [
       "'/Users/kuro/Desktop/PP5 Project/pp5-mildew-detection-in-cherry-leaves'"
      ]
     },
     "execution_count": 3,
     "metadata": {},
     "output_type": "execute_result"
    }
   ],
   "source": [
    "work_dir = os.getcwd()\n",
    "work_dir"
   ]
  },
  {
   "attachments": {},
   "cell_type": "markdown",
   "metadata": {
    "id": "-mavJ8DibrcQ"
   },
   "source": [
    "## Set the input directories"
   ]
  },
  {
   "attachments": {},
   "cell_type": "markdown",
   "metadata": {},
   "source": [
    "The set, train, test and validation paths"
   ]
  },
  {
   "cell_type": "code",
   "execution_count": 4,
   "metadata": {},
   "outputs": [],
   "source": [
    "my_data_dir = 'inputs/cherry-leaves-dataset/cherry-leaves'\n",
    "train_path = my_data_dir + '/train' \n",
    "test_path = my_data_dir + '/test'\n",
    "val_path = my_data_dir + '/validation'"
   ]
  },
  {
   "attachments": {},
   "cell_type": "markdown",
   "metadata": {},
   "source": [
    "## Set the output directory"
   ]
  },
  {
   "cell_type": "code",
   "execution_count": 5,
   "metadata": {},
   "outputs": [
    {
     "name": "stdout",
     "output_type": "stream",
     "text": [
      "Old version is already available. Please create a new version.\n"
     ]
    }
   ],
   "source": [
    "version = 'v1'\n",
    "file_path = f'outputs/{version}'\n",
    "\n",
    "if os.path.exists(os.path.join(work_dir, 'outputs', version)):\n",
    "    print('Old version is already available. Please create a new version.')\n",
    "else:\n",
    "    os.makedirs(file_path)"
   ]
  },
  {
   "attachments": {},
   "cell_type": "markdown",
   "metadata": {},
   "source": [
    "## Set the label names"
   ]
  },
  {
   "cell_type": "code",
   "execution_count": 6,
   "metadata": {},
   "outputs": [
    {
     "name": "stdout",
     "output_type": "stream",
     "text": [
      "Label for the images are ['powdery_mildew', 'healthy']\n"
     ]
    }
   ],
   "source": [
    "labels = os.listdir(train_path)\n",
    "print('Label for the images are', labels)"
   ]
  },
  {
   "attachments": {},
   "cell_type": "markdown",
   "metadata": {
    "id": "ZY3l0-AxO93d"
   },
   "source": [
    "---"
   ]
  },
  {
   "attachments": {},
   "cell_type": "markdown",
   "metadata": {},
   "source": [
    "## Visualising the image data"
   ]
  },
  {
   "attachments": {},
   "cell_type": "markdown",
   "metadata": {},
   "source": [
    "With the way computers visualise data, it is recommended to normalise image pixel values relative to the dataset mean and standard deviation. This helps to achieve consistent results when applying a model to new images and can also be useful for transfer learning. In practice, computing these statistics can be a little non-trivial since we usually can't load the whole dataset in memory and have to loop through it in batches."
   ]
  },
  {
   "attachments": {},
   "cell_type": "markdown",
   "metadata": {},
   "source": [
    "----"
   ]
  },
  {
   "attachments": {},
   "cell_type": "markdown",
   "metadata": {},
   "source": [
    "## Import the libraries"
   ]
  },
  {
   "cell_type": "code",
   "execution_count": 18,
   "metadata": {},
   "outputs": [],
   "source": [
    "import os\n",
    "import pandas as pd\n",
    "import numpy as np\n",
    "import matplotlib.pyplot as plt \n",
    "import seaborn as sns \n",
    "import joblib\n",
    "sns.set_style('white')\n",
    "from matplotlib.image import imread"
   ]
  },
  {
   "cell_type": "code",
   "execution_count": 22,
   "metadata": {},
   "outputs": [
    {
     "data": {
      "image/png": "[encoded data removed]",
      "text/plain": [
       "<Figure size 640x480 with 1 Axes>"
      ]
     },
     "metadata": {},
     "output_type": "display_data"
    },
    {
     "name": "stdout",
     "output_type": "stream",
     "text": [
      "Average Width: 256 pixels\n",
      "Average Height: 256 pixels\n"
     ]
    }
   ],
   "source": [
    "# Initialise empty lists to store dimensions\n",
    "dim1, dim2 = [], []\n",
    "\n",
    "# Iterate through each label\n",
    "for label in labels:\n",
    "    # Iterate through each image in the train set\n",
    "    for image_filename in os.listdir(train_path + '/' + label):\n",
    "        # Read the image and retrieve its dimensions\n",
    "        img = imread(train_path + '/' + label + '/' + image_filename)\n",
    "        d1, d2, colors = img.shape\n",
    "        # Append the dimensions to the respective lists\n",
    "        dim1.append(d1)  # Image height\n",
    "        dim2.append(d2)  # Image width\n",
    "\n",
    "# Set the style for the scatter plot\n",
    "sns.set_style(\"whitegrid\")\n",
    "\n",
    "# Create subplots and plot the scatter plot\n",
    "fig, axes = plt.subplots()\n",
    "sns.scatterplot(x=dim2, y=dim1, alpha=0.2)\n",
    "\n",
    "# Set the labels for x-axis and y-axis\n",
    "axes.set_xlabel(\"Width (pixels)\")\n",
    "axes.set_ylabel(\"Height (pixels)\")\n",
    "\n",
    "# Compute the mean dimensions\n",
    "dim1_mean = int(np.array(dim1).mean())\n",
    "dim2_mean = int(np.array(dim2).mean())\n",
    "\n",
    "# Add vertical and horizontal lines to represent the mean dimensions\n",
    "axes.axvline(x=dim1_mean, color='r', linestyle='--')\n",
    "axes.axhline(y=dim2_mean, color='r', linestyle='--')\n",
    "\n",
    "# Display the plot\n",
    "plt.show()\n",
    "\n",
    "# Print the average width and height dimensions\n",
    "print(f\"Average Width: {dim2_mean} pixels\")\n",
    "print(f\"Average Height: {dim1_mean} pixels\")"
   ]
  },
  {
   "attachments": {},
   "cell_type": "markdown",
   "metadata": {},
   "source": [
    "### Image size used for training the model is determined by computing the average dimensions across all images in the train set"
   ]
  },
  {
   "cell_type": "code",
   "execution_count": 14,
   "metadata": {},
   "outputs": [
    {
     "data": {
      "text/plain": [
       "(256, 256, 3)"
      ]
     },
     "execution_count": 14,
     "metadata": {},
     "output_type": "execute_result"
    }
   ],
   "source": [
    "image_shape = (dim1_mean, dim2_mean, 3)\n",
    "image_shape"
   ]
  },
  {
   "attachments": {},
   "cell_type": "markdown",
   "metadata": {},
   "source": [
    "### Save the image shape embeddings"
   ]
  },
  {
   "cell_type": "code",
   "execution_count": 19,
   "metadata": {},
   "outputs": [
    {
     "data": {
      "text/plain": [
       "['outputs/v1/image_shape.pkl']"
      ]
     },
     "execution_count": 19,
     "metadata": {},
     "output_type": "execute_result"
    }
   ],
   "source": [
    "joblib.dump(value=image_shape ,\n",
    "            filename=f\"{file_path}/image_shape.pkl\")"
   ]
  },
  {
   "attachments": {},
   "cell_type": "markdown",
   "metadata": {},
   "source": [
    "## Average and variability of images per label\n",
    "\n",
    "### Using tensor to create a function that loads the image into an array"
   ]
  },
  {
   "cell_type": "code",
   "execution_count": 25,
   "metadata": {},
   "outputs": [],
   "source": [
    "from tensorflow.keras.preprocessing import image\n",
    "\n",
    "\n",
    "def load_image_as_array(my_data_dir, new_size=(50, 50), n_images_per_label=20):\n",
    "    # Initialise empty arrays for storing images and labels\n",
    "    X, y = np.array([], dtype='int'), np.array([], dtype='object')\n",
    "    # Get the list of labels (sub-folders)\n",
    "    labels = os.listdir(my_data_dir)\n",
    "\n",
    "    for label in labels:\n",
    "        counter = 0  # Counter to limit the number of images per label\n",
    "        for image_filename in os.listdir(my_data_dir + '/' + label):\n",
    "            # Check if the number of images per label has reached the limit\n",
    "            if counter < n_images_per_label:\n",
    "                # Load the image and resize it to the specified size\n",
    "                img = image.load_img(\n",
    "                    my_data_dir + '/' + label + '/' + image_filename, target_size=new_size)\n",
    "                # Convert the image to array and normalize pixel values if necessary\n",
    "                if image.img_to_array(img).max() > 1:\n",
    "                    img_resized = image.img_to_array(img) / 255\n",
    "                else:\n",
    "                    img_resized = image.img_to_array(img)\n",
    "\n",
    "                # Append the image array to X and label to y\n",
    "                X = np.append(X, img_resized).reshape(-1, new_size[0], new_size[1], img_resized.shape[2])\n",
    "                y = np.append(y, label)\n",
    "                counter += 1\n",
    "\n",
    "    return X, y"
   ]
  },
  {
   "attachments": {},
   "cell_type": "markdown",
   "metadata": {
    "id": "ltNetd085qHf"
   },
   "source": [
    "# Push files to Repo"
   ]
  },
  {
   "attachments": {},
   "cell_type": "markdown",
   "metadata": {},
   "source": [
    "* If you don't need to push files to Repo, you may replace this section with \"Conclusions and Next Steps\" and state your conclusions and next steps."
   ]
  },
  {
   "cell_type": "code",
   "execution_count": null,
   "metadata": {
    "id": "aKlnIozA4eQO",
    "outputId": "fd09bc1f-adb1-4511-f6ce-492a6af570c0"
   },
   "outputs": [],
   "source": [
    "import os\n",
    "try:\n",
    "    # create here your folder\n",
    "    # os.makedirs(name='')\n",
    "except Exception as e:\n",
    "    print(e)\n"
   ]
  }
 ],
 "metadata": {
  "accelerator": "GPU",
  "colab": {
   "name": "Data Practitioner Jupyter Notebook.ipynb",
   "provenance": [],
   "toc_visible": true
  },
  "interpreter": {
   "hash": "8b8334dab9339717f727a1deaf837b322d7a41c20d15cc86be99a8e69ceec8ce"
  },
  "kernelspec": {
   "display_name": "Python 3 (ipykernel)",
   "language": "python",
   "name": "python3"
  },
  "language_info": {
   "codemirror_mode": {
    "name": "ipython",
    "version": 3
   },
   "file_extension": ".py",
   "mimetype": "text/x-python",
   "name": "python",
   "nbconvert_exporter": "python",
   "pygments_lexer": "ipython3",
   "version": "3.9.6"
  }
 },
 "nbformat": 4,
 "nbformat_minor": 2
}
